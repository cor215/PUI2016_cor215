{
 "cells": [
  {
   "cell_type": "markdown",
   "metadata": {},
   "source": [
    "# Working with Data - Computer Lab for Guest Lecture Julia Lane\n",
    "\n",
    "In this computer lab we will learn more more details and practice data work to enhance the content of the lecture presented by Julia Lane on responsible data use. We will address a research question, think about data and measurement errors, and manipulate data. \n",
    "\n",
    "OUTLINE: \n",
    "1. Define a research question \n",
    "2. Think about what data are available \n",
    "3. Think about possible measurement errors \n",
    "4. Think about the interpretation of your results \n",
    "5. Inform your results by linking datasets "
   ]
  },
  {
   "cell_type": "markdown",
   "metadata": {
    "raw_mimetype": "text/markdown"
   },
   "source": [
    "# 1. Define a reserach question\n",
    "Which Community Districts in NYC show the highest number of complaints?\n",
    "\n",
    "# 2. Think about what data are available\n",
    "Find suitable data by searching the CUSP Data Catalog https://datahub.cusp.nyu.edu/catalog. You can use Urban Profiler to investigate the Metadata associated with each dataset. Using this tool will help you to decide which attributes of the data you need to answer your question so you don't have to load the entire dataset. "
   ]
  },
  {
   "cell_type": "code",
   "execution_count": 3,
   "metadata": {
    "collapsed": false
   },
   "outputs": [
    {
     "name": "stdout",
     "output_type": "stream",
     "text": [
      "\n"
     ]
    }
   ],
   "source": [
    "import os\n",
    "import pandas as pd\n",
    "import numpy as np\n",
    "import re\n",
    "import json \n",
    "PUIdata = os.getenv('PUIDATA')"
   ]
  },
  {
   "cell_type": "code",
   "execution_count": 30,
   "metadata": {
    "collapsed": false
   },
   "outputs": [],
   "source": [
    "# Load dataset\n",
    "#!curl -O https://nycopendata.socrata.com/api/views/erm2-nwe9/rows.csv?accessType=DOWNLOAD\n",
    "#jfile = open('https://data.cityofnewyork.us/resource/fhrw-4uyv.json')\n",
    "\n",
    "#data = json.loads('https://data.cityofnewyork.us/resource/fhrw-4uyv.json')\n",
    "\n",
    "#query = (\"https://data.cityofnewyork.us/resource/fhrw-4uyv.json\")\n",
    "#raw_data = pd.read_json(query)\n",
    "\n",
    "#data = pd.read_csv('https://nycopendata.socrata.com/api/views/erm2-nwe9/rows.csv?accessType=DOWNLOAD', usecols=[0,1,2,3])\n",
    "\n",
    "data = pd.read_csv('http://cosmo.nyu.edu/~fb55/PUI2016/data/311_Service_Requests_from_2010_to_Present.csv'\\\n",
    "                  , usecols=['Created Date','Complaint Type','Community Board', 'Borough', 'Resolution Description'])"
   ]
  },
  {
   "cell_type": "code",
   "execution_count": 31,
   "metadata": {
    "collapsed": false,
    "scrolled": true
   },
   "outputs": [
    {
     "data": {
      "text/html": [
       "<div>\n",
       "<table border=\"1\" class=\"dataframe\">\n",
       "  <thead>\n",
       "    <tr style=\"text-align: right;\">\n",
       "      <th></th>\n",
       "      <th>Created Date</th>\n",
       "      <th>Complaint Type</th>\n",
       "      <th>Resolution Description</th>\n",
       "      <th>Community Board</th>\n",
       "      <th>Borough</th>\n",
       "    </tr>\n",
       "  </thead>\n",
       "  <tbody>\n",
       "    <tr>\n",
       "      <th>0</th>\n",
       "      <td>09/01/2016 12:00:06 AM</td>\n",
       "      <td>Noise - Residential</td>\n",
       "      <td>The Police Department responded to the complai...</td>\n",
       "      <td>13 QUEENS</td>\n",
       "      <td>QUEENS</td>\n",
       "    </tr>\n",
       "    <tr>\n",
       "      <th>1</th>\n",
       "      <td>09/01/2016 12:00:35 AM</td>\n",
       "      <td>Blocked Driveway</td>\n",
       "      <td>The Police Department reviewed your complaint ...</td>\n",
       "      <td>12 BRONX</td>\n",
       "      <td>BRONX</td>\n",
       "    </tr>\n",
       "    <tr>\n",
       "      <th>2</th>\n",
       "      <td>09/01/2016 12:00:37 AM</td>\n",
       "      <td>Blocked Driveway</td>\n",
       "      <td>The Police Department responded and upon arriv...</td>\n",
       "      <td>03 QUEENS</td>\n",
       "      <td>QUEENS</td>\n",
       "    </tr>\n",
       "    <tr>\n",
       "      <th>3</th>\n",
       "      <td>09/01/2016 12:00:54 AM</td>\n",
       "      <td>Blocked Driveway</td>\n",
       "      <td>The Police Department issued a summons in resp...</td>\n",
       "      <td>12 BRONX</td>\n",
       "      <td>BRONX</td>\n",
       "    </tr>\n",
       "    <tr>\n",
       "      <th>4</th>\n",
       "      <td>09/01/2016 12:01:15 AM</td>\n",
       "      <td>Street Condition</td>\n",
       "      <td>The Department of Transportation inspected thi...</td>\n",
       "      <td>12 MANHATTAN</td>\n",
       "      <td>MANHATTAN</td>\n",
       "    </tr>\n",
       "  </tbody>\n",
       "</table>\n",
       "</div>"
      ],
      "text/plain": [
       "             Created Date       Complaint Type  \\\n",
       "0  09/01/2016 12:00:06 AM  Noise - Residential   \n",
       "1  09/01/2016 12:00:35 AM     Blocked Driveway   \n",
       "2  09/01/2016 12:00:37 AM     Blocked Driveway   \n",
       "3  09/01/2016 12:00:54 AM     Blocked Driveway   \n",
       "4  09/01/2016 12:01:15 AM     Street Condition   \n",
       "\n",
       "                              Resolution Description Community Board  \\\n",
       "0  The Police Department responded to the complai...       13 QUEENS   \n",
       "1  The Police Department reviewed your complaint ...        12 BRONX   \n",
       "2  The Police Department responded and upon arriv...       03 QUEENS   \n",
       "3  The Police Department issued a summons in resp...        12 BRONX   \n",
       "4  The Department of Transportation inspected thi...    12 MANHATTAN   \n",
       "\n",
       "     Borough  \n",
       "0     QUEENS  \n",
       "1      BRONX  \n",
       "2     QUEENS  \n",
       "3      BRONX  \n",
       "4  MANHATTAN  "
      ]
     },
     "execution_count": 31,
     "metadata": {},
     "output_type": "execute_result"
    }
   ],
   "source": [
    "#data = DataFrame(rsw_data)\n",
    "data.head()"
   ]
  },
  {
   "cell_type": "code",
   "execution_count": 32,
   "metadata": {
    "collapsed": false
   },
   "outputs": [
    {
     "data": {
      "text/plain": [
       "(34897, 5)"
      ]
     },
     "execution_count": 32,
     "metadata": {},
     "output_type": "execute_result"
    }
   ],
   "source": [
    "data.shape\n"
   ]
  },
  {
   "cell_type": "markdown",
   "metadata": {},
   "source": [
    "# 3. Think about possible measurement errors\n",
    "Do you see any problems regarding possible measurement error? Think about who is represented in the data, ommissions, duplications, content error, missing data, etc. "
   ]
  },
  {
   "cell_type": "code",
   "execution_count": 33,
   "metadata": {
    "collapsed": false
   },
   "outputs": [
    {
     "name": "stdout",
     "output_type": "stream",
     "text": [
      "All boroughs are represented in the data:  ['QUEENS' 'BRONX' 'MANHATTAN' 'BROOKLYN' 'Unspecified' 'STATEN ISLAND']\n",
      "Community Boards represented in the data:  ['13 QUEENS' '12 BRONX' '03 QUEENS' '12 MANHATTAN' '09 MANHATTAN'\n",
      " '08 QUEENS' '01 QUEENS' '07 BRONX' '01 BROOKLYN' '03 MANHATTAN'\n",
      " '09 QUEENS' '05 BRONX' '03 BROOKLYN' '07 MANHATTAN' '12 BROOKLYN'\n",
      " '0 Unspecified' '09 BROOKLYN' '07 QUEENS' '15 BROOKLYN' '08 MANHATTAN'\n",
      " '10 BROOKLYN' '08 BROOKLYN' '04 MANHATTAN' '02 MANHATTAN' '12 QUEENS'\n",
      " '04 BRONX' '04 BROOKLYN' '01 BRONX' 'Unspecified MANHATTAN' '10 QUEENS'\n",
      " '18 BROOKLYN' '11 BROOKLYN' '10 MANHATTAN' '11 QUEENS' '16 BROOKLYN'\n",
      " '05 BROOKLYN' '05 MANHATTAN' '55 BROOKLYN' '08 BRONX' '09 BRONX'\n",
      " '17 BROOKLYN' '01 MANHATTAN' '05 QUEENS' '06 QUEENS' '02 BRONX' '11 BRONX'\n",
      " '04 QUEENS' 'Unspecified BROOKLYN' '02 QUEENS' '01 STATEN ISLAND'\n",
      " '03 STATEN ISLAND' '14 BROOKLYN' '07 BROOKLYN' '02 STATEN ISLAND'\n",
      " '10 BRONX' '11 MANHATTAN' '06 BROOKLYN' '13 BROOKLYN' '06 MANHATTAN'\n",
      " 'Unspecified BRONX' '02 BROOKLYN' '06 BRONX' '14 QUEENS' '03 BRONX'\n",
      " '83 QUEENS' 'Unspecified QUEENS' 'Unspecified STATEN ISLAND' '80 QUEENS'\n",
      " '82 QUEENS' '81 QUEENS' '95 STATEN ISLAND' '64 MANHATTAN' '26 BRONX'\n",
      " '27 BRONX']\n",
      "No not all community boards are represented in the data. Infact, community boards represented seem to be mislabeled.\n"
     ]
    }
   ],
   "source": [
    "# Check if all Boroughs and Community Districts are represented in the Data \n",
    "\n",
    "print 'All boroughs are represented in the data: ', data.Borough.unique()\n",
    "print 'Community Boards represented in the data: ', data['Community Board'].unique()\n",
    "print 'No not all community boards are represented in the data. Infact, \\\n",
    "community boards represented seem to be mislabeled.'\n"
   ]
  },
  {
   "cell_type": "code",
   "execution_count": 34,
   "metadata": {
    "collapsed": false
   },
   "outputs": [
    {
     "name": "stdout",
     "output_type": "stream",
     "text": [
      "Unique NYC boroughs represented in the data:  6\n",
      "Unique NYC Community Boards represented in the data:  74\n"
     ]
    }
   ],
   "source": [
    "# How many unique values do we have? \n",
    "print 'Unique NYC boroughs represented in the data: ', len(data.Borough.unique())\n",
    "print 'Unique NYC Community Boards represented in the data: ', len(data['Community Board'].unique())\n"
   ]
  },
  {
   "cell_type": "code",
   "execution_count": 35,
   "metadata": {
    "collapsed": false
   },
   "outputs": [
    {
     "name": "stdout",
     "output_type": "stream",
     "text": [
      "Survey Error\n"
     ]
    }
   ],
   "source": [
    "# Why do we have so many? Some of them are unspecified, missing. Some might be invalid entries. \n",
    "# We should have 59 Community Districts.\n",
    "\n",
    "print 'Survey Error'\n"
   ]
  },
  {
   "cell_type": "code",
   "execution_count": 36,
   "metadata": {
    "collapsed": false,
    "scrolled": false
   },
   "outputs": [
    {
     "data": {
      "text/plain": [
       "Created Date            Complaint Type                     Resolution Description                                                                                                                                                                                                                                                                                                                                                                                                                                                                                              Community Board    Borough      \n",
       "09/01/2016 01:00:00 PM  Sweeping/Inadequate                The Department of Sanitation has investigated the complaint and addressed the issue. If the problem persists, call 311 to enter a new complaint. If you are outside of New York City, please call (212) NEW-YORK (212-639-9675).                                                                                                                                                                                                                                                                                    01 BRONX           BRONX            1\n",
       "09/01/2016 01:00:16 PM  Dead/Dying Tree                    The Department of Parks and Recreation usually requires 30 days to inspect the issue and determine the appropriate action. Please note your Service Request number for future reference.                                                                                                                                                                                                                                                                                                                            02 QUEENS          QUEENS           1\n",
       "09/01/2016 01:00:20 PM  SCRIE                              We have mailed the requested document(s).                                                                                                                                                                                                                                                                                                                                                                                                                                                                           11 BRONX           BRONX            1\n",
       "09/01/2016 01:00:25 PM  DOF Literature Request             The literature you requested has been mailed to you. Please allow additional time for delivery.                                                                                                                                                                                                                                                                                                                                                                                                                     0 Unspecified      Unspecified      1\n",
       "09/01/2016 01:00:46 AM  Noise - Commercial                 The Police Department responded to the complaint and with the information available observed no evidence of the violation at that time.                                                                                                                                                                                                                                                                                                                                                                             03 QUEENS          QUEENS           1\n",
       "09/01/2016 01:00:51 AM  Blocked Driveway                   The Police Department issued a summons in response to the complaint.                                                                                                                                                                                                                                                                                                                                                                                                                                                03 BROOKLYN        BROOKLYN         1\n",
       "09/01/2016 01:01:15 PM  DOF Property - Request Copy        The Department of Finance will investigate the issue and attempt to provide a response within five days. Please note your Service Request number for future reference.                                                                                                                                                                                                                                                                                                                                              10 BRONX           BRONX            1\n",
       "09/01/2016 01:01:24 PM  APPLIANCE                          The Department of Housing Preservation and Development inspected the following conditions. No violations were issued. The complaint has been closed.                                                                                                                                                                                                                                                                                                                                                                10 MANHATTAN       MANHATTAN        1\n",
       "                        DOOR/WINDOW                        The Department of Housing Preservation and Development inspected the following conditions. No violations were issued. The complaint has been closed.                                                                                                                                                                                                                                                                                                                                                                10 MANHATTAN       MANHATTAN        3\n",
       "                                                           The Department of Housing Preservation and Development inspected the following conditions. Violations were issued. Information about specific violations is available at www.nyc.gov/hpd.                                                                                                                                                                                                                                                                                                                           10 MANHATTAN       MANHATTAN        1\n",
       "                        ELECTRIC                           The Department of Housing Preservation and Development inspected the following conditions. Violations were issued. Information about specific violations is available at www.nyc.gov/hpd.                                                                                                                                                                                                                                                                                                                           10 MANHATTAN       MANHATTAN        1\n",
       "                        GENERAL                            The following complaint conditions are still open. HPD may attempt to contact you to verify the correction of the condition or may conduct an inspection.                                                                                                                                                                                                                                                                                                                                                           10 MANHATTAN       MANHATTAN        1\n",
       "                        PAINT/PLASTER                      The Department of Housing Preservation and Development inspected the following conditions. Violations were issued. Information about specific violations is available at www.nyc.gov/hpd.                                                                                                                                                                                                                                                                                                                           10 MANHATTAN       MANHATTAN        1\n",
       "                        SAFETY                             The Department of Housing Preservation and Development inspected the following conditions. Violations were issued. Information about specific violations is available at www.nyc.gov/hpd.                                                                                                                                                                                                                                                                                                                           10 MANHATTAN       MANHATTAN        1\n",
       "09/01/2016 01:01:31 PM  DOF Property - Update Account      See notes.                                                                                                                                                                                                                                                                                                                                                                                                                                                                                                          01 STATEN ISLAND   STATEN ISLAND    1\n",
       "09/01/2016 01:01:47 PM  PLUMBING                           The following complaint conditions are still open. HPD may attempt to contact you to verify the correction of the condition or may conduct an inspection.                                                                                                                                                                                                                                                                                                                                                           05 BRONX           BRONX            2\n",
       "09/01/2016 01:01:51 PM  UNSANITARY CONDITION               The following complaint conditions are still open. HPD may attempt to contact you to verify the correction of the condition or may conduct an inspection.                                                                                                                                                                                                                                                                                                                                                           05 BRONX           BRONX            2\n",
       "09/01/2016 01:01:56 PM  Noise - Residential                The Police Department responded to the complaint and with the information available observed no evidence of the violation at that time.                                                                                                                                                                                                                                                                                                                                                                             11 BRONX           BRONX            1\n",
       "09/01/2016 01:01:57 PM  Non-Emergency Police Matter        The Police Department responded to the complaint and determined that police action was not necessary.                                                                                                                                                                                                                                                                                                                                                                                                               10 MANHATTAN       MANHATTAN        1\n",
       "09/01/2016 01:02:00 AM  Water System                       Please call 311 for further information. If you are outside of New York City, please call (212) NEW-YORK (212-639-9675).                                                                                                                                                                                                                                                                                                                                                                                            11 BROOKLYN        BROOKLYN         1\n",
       "09/01/2016 01:02:00 PM  Missed Collection (All Materials)  The Department of Sanitation has investigated the complaint and addressed the issue. If the problem persists, call 311 to enter a new complaint. If you are outside of New York City, please call (212) NEW-YORK (212-639-9675).                                                                                                                                                                                                                                                                                    02 STATEN ISLAND   STATEN ISLAND    1\n",
       "                        Street Light Condition             Service Request status for this request is available on the Department of Transportationâs website. Please click the âLearn Moreâ link below.                                                                                                                                                                                                                                                                                                                                                                 Unspecified BRONX  BRONX            1\n",
       "09/01/2016 01:02:08 AM  Noise - Residential                The Police Department responded and upon arrival those responsible for the condition were gone.                                                                                                                                                                                                                                                                                                                                                                                                                     09 QUEENS          QUEENS           1\n",
       "09/01/2016 01:02:11 PM  Housing - Low Income Senior        The Department for the Aging usually requires 14 days to respond to this type of complaint.  Please note your Service Request number for future reference.                                                                                                                                                                                                                                                                                                                                                          07 BROOKLYN        BROOKLYN         1\n",
       "09/01/2016 01:02:19 PM  DOF Parking - Tax Exemption        See notes.                                                                                                                                                                                                                                                                                                                                                                                                                                                                                                          06 MANHATTAN       MANHATTAN        1\n",
       "09/01/2016 01:02:33 AM  Noise - Residential                The Police Department responded to the complaint and a report was prepared.                                                                                                                                                                                                                                                                                                                                                                                                                                         01 BRONX           BRONX            1\n",
       "09/01/2016 01:02:50 AM  Noise - Residential                The Police Department responded to the complaint and with the information available observed no evidence of the violation at that time.                                                                                                                                                                                                                                                                                                                                                                             03 QUEENS          QUEENS           1\n",
       "09/01/2016 01:02:50 PM  Maintenance or Facility            The Department of Parks and Recreation usually requires 14 days to respond to this type of complaint. Please note your Service Request number for future reference.                                                                                                                                                                                                                                                                                                                                                 12 MANHATTAN       MANHATTAN        1\n",
       "09/01/2016 01:03:00 PM  Missed Collection (All Materials)  The Department of Sanitation picked up the items and determined that the missed collection complaint was not warranted.                                                                                                                                                                                                                                                                                                                                                                                             02 BROOKLYN        BROOKLYN         1\n",
       "09/01/2016 01:03:01 AM  Blocked Driveway                   The Police Department responded and upon arrival those responsible for the condition were gone.                                                                                                                                                                                                                                                                                                                                                                                                                     09 QUEENS          QUEENS           1\n",
       "                                                                                                                                                                                                                                                                                                                                                                                                                                                                                                                                                                                                                  ..\n",
       "09/07/2016 12:28:00 AM  Noise - Vehicle                    Your complaint has been received by the Police Department and additional information will be available later.                                                                                                                                                                                                                                                                                                                                                                                                       02 STATEN ISLAND   STATEN ISLAND    1\n",
       "09/07/2016 12:29:26 AM  Noise - Residential                The Police Department responded to the complaint and with the information available observed no evidence of the violation at that time.                                                                                                                                                                                                                                                                                                                                                                             10 MANHATTAN       MANHATTAN        1\n",
       "09/07/2016 12:29:48 AM  Noise - Residential                Your complaint has been received by the Police Department and additional information will be available later.                                                                                                                                                                                                                                                                                                                                                                                                       12 MANHATTAN       MANHATTAN        1\n",
       "09/07/2016 12:30:04 AM  Noise - Commercial                 Your complaint has been forwarded to the New York Police Department for a non-emergency response. 311 will have additional information in 8 hours. Please note your service request number for future reference.                                                                                                                                                                                                                                                                                                    06 BROOKLYN        BROOKLYN         1\n",
       "09/07/2016 12:31:37 AM  Illegal Parking                    Your complaint has been received by the Police Department and additional information will be available later.                                                                                                                                                                                                                                                                                                                                                                                                       10 BRONX           BRONX            1\n",
       "09/07/2016 12:32:40 AM  Noise - Street/Sidewalk            The Police Department responded to the complaint and with the information available observed no evidence of the violation at that time.                                                                                                                                                                                                                                                                                                                                                                             02 BROOKLYN        BROOKLYN         1\n",
       "09/07/2016 12:33:09 AM  Noise - Residential                The Police Department responded to the complaint and took action to fix the condition.                                                                                                                                                                                                                                                                                                                                                                                                                              17 BROOKLYN        BROOKLYN         1\n",
       "09/07/2016 12:33:26 AM  Noise - Residential                The Police Department responded to the complaint and took action to fix the condition.                                                                                                                                                                                                                                                                                                                                                                                                                              06 BRONX           BRONX            1\n",
       "09/07/2016 12:33:53 AM  Benefit Card Replacement           The Human Resources Administration received your request. If you are eligible for a benefit card replacement, you will receive it in 7 to 10 business days. No further updates will be available by calling 311 or on 311 Online.                                                                                                                                                                                                                                                                                   0 Unspecified      Unspecified      1\n",
       "09/07/2016 12:34:50 AM  Taxi Complaint                     The Taxi and Limousine Commission will contact you within 14 days to confirm your complaint details. Please note your Service Request number for future reference.                                                                                                                                                                                                                                                                                                                                                  08 BROOKLYN        BROOKLYN         1\n",
       "09/07/2016 12:35:49 AM  Damaged Tree                       The Department of Parks and Recreation usually requires 5 days to inspect this issue and may take up to 30 days to resolve it, if warranted.  Please note your Service Request number for future reference.                                                                                                                                                                                                                                                                                                         05 BRONX           BRONX            1\n",
       "09/07/2016 12:37:01 AM  Noise - Commercial                 The Police Department responded to the complaint and determined that police action was not necessary.                                                                                                                                                                                                                                                                                                                                                                                                               11 BROOKLYN        BROOKLYN         1\n",
       "09/07/2016 12:37:44 AM  Noise - Commercial                 The Police Department responded to the complaint and took action to fix the condition.                                                                                                                                                                                                                                                                                                                                                                                                                              08 BRONX           BRONX            1\n",
       "09/07/2016 12:38:33 AM  Noise - Street/Sidewalk            The Police Department responded to the complaint and determined that police action was not necessary.                                                                                                                                                                                                                                                                                                                                                                                                               10 MANHATTAN       MANHATTAN        1\n",
       "09/07/2016 12:39:51 AM  Blocked Driveway                   Your complaint has been forwarded to the New York Police Department for a non-emergency response. If the police determine the vehicle is illegally parked, they will ticket the vehicle and then you may either contact a private towing company to remove the vehicle or ask your local precinct to contact 'rotation tow'. Any fees charged for towing will have to be paid by the vehicle owner. 311 will have additional information in 8 hours. Please note your service request number for future reference.  12 BRONX           BRONX            1\n",
       "09/07/2016 12:41:36 AM  Dead/Dying Tree                    The Department of Parks and Recreation usually requires 30 days to inspect the issue and determine the appropriate action. Please note your Service Request number for future reference.                                                                                                                                                                                                                                                                                                                            08 QUEENS          QUEENS           1\n",
       "09/07/2016 12:41:56 AM  Noise - Residential                The Police Department responded to the complaint and with the information available observed no evidence of the violation at that time.                                                                                                                                                                                                                                                                                                                                                                             02 MANHATTAN       MANHATTAN        1\n",
       "09/07/2016 12:42:38 AM  Damaged Tree                       The Department of Parks and Recreation usually requires 4 days to inspect branches that have fallen on streets or sidewalks. If warranted, the issue will be resolved in 10 days. All other locations will be inspected in 8 days and may take up to 45 days to resolve. Please note your Service Request number for future reference.                                                                                                                                                                              05 BRONX           BRONX            1\n",
       "09/07/2016 12:42:46 AM  Noise - Residential                The Police Department responded to the complaint and took action to fix the condition.                                                                                                                                                                                                                                                                                                                                                                                                                              10 BROOKLYN        BROOKLYN         1\n",
       "09/07/2016 12:45:05 AM  Blocked Driveway                   Your complaint has been received by the Police Department and additional information will be available later.                                                                                                                                                                                                                                                                                                                                                                                                       17 BROOKLYN        BROOKLYN         1\n",
       "09/07/2016 12:45:09 AM  Noise - Street/Sidewalk            Your complaint has been forwarded to the New York Police Department for a non-emergency response. 311 will have additional information in 8 hours. Please note your service request number for future reference.                                                                                                                                                                                                                                                                                                    0 Unspecified      Unspecified      1\n",
       "09/07/2016 12:46:05 AM  Noise - Residential                The Police Department responded to the complaint and with the information available observed no evidence of the violation at that time.                                                                                                                                                                                                                                                                                                                                                                             07 BROOKLYN        BROOKLYN         1\n",
       "                        Noise - Street/Sidewalk            Your complaint has been received by the Police Department and additional information will be available later.                                                                                                                                                                                                                                                                                                                                                                                                       05 QUEENS          QUEENS           1\n",
       "09/07/2016 12:50:32 AM  Noise - Residential                The Police Department responded to the complaint and with the information available observed no evidence of the violation at that time.                                                                                                                                                                                                                                                                                                                                                                             09 BRONX           BRONX            1\n",
       "09/07/2016 12:50:51 AM  Noise - Residential                The Police Department responded to the complaint and with the information available observed no evidence of the violation at that time.                                                                                                                                                                                                                                                                                                                                                                             11 BRONX           BRONX            1\n",
       "09/07/2016 12:52:19 AM  Noise - Residential                Your request can not be processed at this time because of insufficient contact information. Please create a new Service Request on NYC.gov and provide more detailed contact information.                                                                                                                                                                                                                                                                                                                           06 MANHATTAN       MANHATTAN        1\n",
       "09/07/2016 12:53:42 AM  Noise - Street/Sidewalk            Your complaint has been received by the Police Department and additional information will be available later.                                                                                                                                                                                                                                                                                                                                                                                                       12 MANHATTAN       MANHATTAN        1\n",
       "09/07/2016 12:53:52 AM  Noise - Residential                The Police Department reviewed your complaint and provided additional information below.                                                                                                                                                                                                                                                                                                                                                                                                                            04 MANHATTAN       MANHATTAN        1\n",
       "09/07/2016 12:55:42 AM  Root/Sewer/Sidewalk Condition      The Department of Parks and Recreation usually requires 90 days to evaluate this type of request and inspect the location for possible inclusion in the Trees and Sidewalks Program. Please note your Service Request for future reference.                                                                                                                                                                                                                                                                         18 BROOKLYN        BROOKLYN         1\n",
       "09/07/2016 12:58:02 AM  Damaged Tree                       The Department of Parks and Recreation usually requires 5 days to inspect this issue and may take up to 30 days to resolve it, if warranted.  Please note your Service Request number for future reference.                                                                                                                                                                                                                                                                                                         04 BROOKLYN        BROOKLYN         1\n",
       "dtype: int64"
      ]
     },
     "execution_count": 36,
     "metadata": {},
     "output_type": "execute_result"
    }
   ],
   "source": [
    "# Check for duplicates? Are these plausible?\n",
    "\n",
    "#df.groupby(['Letters', 'Numbers']).size()\n",
    "\n",
    "data.groupby(['Created Date', 'Complaint Type', 'Resolution Description', 'Community Board', 'Borough']).size()\n"
   ]
  },
  {
   "cell_type": "code",
   "execution_count": 37,
   "metadata": {
    "collapsed": false
   },
   "outputs": [
    {
     "name": "stdout",
     "output_type": "stream",
     "text": [
      "Total number of duplicated values 1592\n"
     ]
    }
   ],
   "source": [
    "print(\"Total number of duplicated values %s\"%data.duplicated().sum())"
   ]
  },
  {
   "cell_type": "code",
   "execution_count": 21,
   "metadata": {
    "collapsed": false
   },
   "outputs": [
    {
     "name": "stdout",
     "output_type": "stream",
     "text": [
      "As per the output above, we can see many duplicate rows and many rows with missing fields.\n"
     ]
    }
   ],
   "source": [
    "print 'As per the output above, we can see many duplicate rows and many rows with missing fields.'"
   ]
  },
  {
   "cell_type": "code",
   "execution_count": 38,
   "metadata": {
    "collapsed": false
   },
   "outputs": [
    {
     "name": "stdout",
     "output_type": "stream",
     "text": [
      "Yes, many rows have missing Complaint Type and Resolution Descriptions. No specific patterns.\n"
     ]
    }
   ],
   "source": [
    "# What about missing values? Can you detect any patterns? \n",
    "\n",
    "print 'Yes, many rows have missing Complaint Type and Resolution Descriptions. No specific patterns.'"
   ]
  },
  {
   "cell_type": "code",
   "execution_count": 43,
   "metadata": {
    "collapsed": false
   },
   "outputs": [
    {
     "data": {
      "text/plain": [
       "0    False\n",
       "1    False\n",
       "2    False\n",
       "3    False\n",
       "4    False\n",
       "Name: Created Date, dtype: bool"
      ]
     },
     "execution_count": 43,
     "metadata": {},
     "output_type": "execute_result"
    }
   ],
   "source": [
    "# Data Editing: Is it possible to replace missing values? Is it possible to use Complaint Type \n",
    "# to fill missings in Resolution Descriptor?\n",
    "\n",
    "duplicates = pd.Series(data['Created Date'].duplicated())\n",
    "duplicates.head()"
   ]
  },
  {
   "cell_type": "code",
   "execution_count": 84,
   "metadata": {
    "collapsed": false
   },
   "outputs": [
    {
     "ename": "ValueError",
     "evalue": "labels ['Created Date' 'Complaint Type' 'Resolution Description' 'Community Board'\n 'Borough' 'c_num'] not contained in axis",
     "output_type": "error",
     "traceback": [
      "\u001b[0;31m---------------------------------------------------------------------------\u001b[0m",
      "\u001b[0;31mValueError\u001b[0m                                Traceback (most recent call last)",
      "\u001b[0;32m<ipython-input-84-6cf85310530e>\u001b[0m in \u001b[0;36m<module>\u001b[0;34m()\u001b[0m\n\u001b[1;32m      5\u001b[0m \u001b[0;31m#data['c_num2'] = data.c_num.astype(float)\u001b[0m\u001b[0;34m\u001b[0m\u001b[0;34m\u001b[0m\u001b[0m\n\u001b[1;32m      6\u001b[0m \u001b[0;31m#data['c_bour'] = c_boards.str.split(' ', expand=True)\u001b[0m\u001b[0;34m\u001b[0m\u001b[0;34m\u001b[0m\u001b[0m\n\u001b[0;32m----> 7\u001b[0;31m \u001b[0mdata\u001b[0m \u001b[0;34m=\u001b[0m \u001b[0mdata\u001b[0m\u001b[0;34m.\u001b[0m\u001b[0mdrop\u001b[0m\u001b[0;34m(\u001b[0m\u001b[0mdata\u001b[0m\u001b[0;34m[\u001b[0m\u001b[0mdata\u001b[0m\u001b[0;34m.\u001b[0m\u001b[0mc_num\u001b[0m  \u001b[0;34m==\u001b[0m \u001b[0;34m'Unspecified'\u001b[0m\u001b[0;34m]\u001b[0m\u001b[0;34m)\u001b[0m\u001b[0;34m\u001b[0m\u001b[0m\n\u001b[0m\u001b[1;32m      8\u001b[0m \u001b[0mpd\u001b[0m\u001b[0;34m.\u001b[0m\u001b[0mto_numeric\u001b[0m\u001b[0;34m(\u001b[0m\u001b[0mdata\u001b[0m\u001b[0;34m[\u001b[0m\u001b[0;34m'c_num'\u001b[0m\u001b[0;34m]\u001b[0m\u001b[0;34m)\u001b[0m\u001b[0;34m\u001b[0m\u001b[0m\n\u001b[1;32m      9\u001b[0m \u001b[0;34m\u001b[0m\u001b[0m\n",
      "\u001b[0;32m/Users/christianrosado/anaconda/lib/python2.7/site-packages/pandas/core/generic.pyc\u001b[0m in \u001b[0;36mdrop\u001b[0;34m(self, labels, axis, level, inplace, errors)\u001b[0m\n\u001b[1;32m   1905\u001b[0m                 \u001b[0mnew_axis\u001b[0m \u001b[0;34m=\u001b[0m \u001b[0maxis\u001b[0m\u001b[0;34m.\u001b[0m\u001b[0mdrop\u001b[0m\u001b[0;34m(\u001b[0m\u001b[0mlabels\u001b[0m\u001b[0;34m,\u001b[0m \u001b[0mlevel\u001b[0m\u001b[0;34m=\u001b[0m\u001b[0mlevel\u001b[0m\u001b[0;34m,\u001b[0m \u001b[0merrors\u001b[0m\u001b[0;34m=\u001b[0m\u001b[0merrors\u001b[0m\u001b[0;34m)\u001b[0m\u001b[0;34m\u001b[0m\u001b[0m\n\u001b[1;32m   1906\u001b[0m             \u001b[0;32melse\u001b[0m\u001b[0;34m:\u001b[0m\u001b[0;34m\u001b[0m\u001b[0m\n\u001b[0;32m-> 1907\u001b[0;31m                 \u001b[0mnew_axis\u001b[0m \u001b[0;34m=\u001b[0m \u001b[0maxis\u001b[0m\u001b[0;34m.\u001b[0m\u001b[0mdrop\u001b[0m\u001b[0;34m(\u001b[0m\u001b[0mlabels\u001b[0m\u001b[0;34m,\u001b[0m \u001b[0merrors\u001b[0m\u001b[0;34m=\u001b[0m\u001b[0merrors\u001b[0m\u001b[0;34m)\u001b[0m\u001b[0;34m\u001b[0m\u001b[0m\n\u001b[0m\u001b[1;32m   1908\u001b[0m             \u001b[0mdropped\u001b[0m \u001b[0;34m=\u001b[0m \u001b[0mself\u001b[0m\u001b[0;34m.\u001b[0m\u001b[0mreindex\u001b[0m\u001b[0;34m(\u001b[0m\u001b[0;34m**\u001b[0m\u001b[0;34m{\u001b[0m\u001b[0maxis_name\u001b[0m\u001b[0;34m:\u001b[0m \u001b[0mnew_axis\u001b[0m\u001b[0;34m}\u001b[0m\u001b[0;34m)\u001b[0m\u001b[0;34m\u001b[0m\u001b[0m\n\u001b[1;32m   1909\u001b[0m             \u001b[0;32mtry\u001b[0m\u001b[0;34m:\u001b[0m\u001b[0;34m\u001b[0m\u001b[0m\n",
      "\u001b[0;32m/Users/christianrosado/anaconda/lib/python2.7/site-packages/pandas/indexes/base.pyc\u001b[0m in \u001b[0;36mdrop\u001b[0;34m(self, labels, errors)\u001b[0m\n\u001b[1;32m   3225\u001b[0m             \u001b[0;32mif\u001b[0m \u001b[0merrors\u001b[0m \u001b[0;34m!=\u001b[0m \u001b[0;34m'ignore'\u001b[0m\u001b[0;34m:\u001b[0m\u001b[0;34m\u001b[0m\u001b[0m\n\u001b[1;32m   3226\u001b[0m                 raise ValueError('labels %s not contained in axis' %\n\u001b[0;32m-> 3227\u001b[0;31m                                  labels[mask])\n\u001b[0m\u001b[1;32m   3228\u001b[0m             \u001b[0mindexer\u001b[0m \u001b[0;34m=\u001b[0m \u001b[0mindexer\u001b[0m\u001b[0;34m[\u001b[0m\u001b[0;34m~\u001b[0m\u001b[0mmask\u001b[0m\u001b[0;34m]\u001b[0m\u001b[0;34m\u001b[0m\u001b[0m\n\u001b[1;32m   3229\u001b[0m         \u001b[0;32mreturn\u001b[0m \u001b[0mself\u001b[0m\u001b[0;34m.\u001b[0m\u001b[0mdelete\u001b[0m\u001b[0;34m(\u001b[0m\u001b[0mindexer\u001b[0m\u001b[0;34m)\u001b[0m\u001b[0;34m\u001b[0m\u001b[0m\n",
      "\u001b[0;31mValueError\u001b[0m: labels ['Created Date' 'Complaint Type' 'Resolution Description' 'Community Board'\n 'Borough' 'c_num'] not contained in axis"
     ]
    }
   ],
   "source": [
    "# Generate marker for unplausible Community Districts\n",
    "# How do these districts look like? \n",
    "c_boards = pd.Series(data['Community Board'])\n",
    "data['c_num'] = c_boards.str.split(' ', expand=True)\n",
    "#data['c_num2'] = data.c_num.astype(float)\n",
    "#data['c_bour'] = c_boards.str.split(' ', expand=True)\n",
    "data = data.drop(data[data.c_num  == 'Unspecified'])\n",
    "pd.to_numeric(data['c_num'])\n",
    "\n",
    "data.head(50)\n",
    "\n"
   ]
  },
  {
   "cell_type": "code",
   "execution_count": 74,
   "metadata": {
    "collapsed": false
   },
   "outputs": [
    {
     "ename": "TypeError",
     "evalue": "cannot compare a dtyped [object] array with a scalar of type [bool]",
     "output_type": "error",
     "traceback": [
      "\u001b[0;31m---------------------------------------------------------------------------\u001b[0m",
      "\u001b[0;31mTypeError\u001b[0m                                 Traceback (most recent call last)",
      "\u001b[0;32m<ipython-input-74-c92d7bfb236d>\u001b[0m in \u001b[0;36m<module>\u001b[0;34m()\u001b[0m\n\u001b[1;32m      1\u001b[0m \u001b[0;31m# Drop the marked districts\u001b[0m\u001b[0;34m\u001b[0m\u001b[0;34m\u001b[0m\u001b[0m\n\u001b[1;32m      2\u001b[0m \u001b[0;34m\u001b[0m\u001b[0m\n\u001b[0;32m----> 3\u001b[0;31m \u001b[0mdata\u001b[0m \u001b[0;34m=\u001b[0m \u001b[0mdata\u001b[0m\u001b[0;34m.\u001b[0m\u001b[0mdrop\u001b[0m\u001b[0;34m(\u001b[0m\u001b[0mdata\u001b[0m\u001b[0;34m[\u001b[0m\u001b[0mdata\u001b[0m\u001b[0;34m.\u001b[0m\u001b[0mc_num\u001b[0m \u001b[0;34m>\u001b[0m \u001b[0;36m12\u001b[0m \u001b[0;34m&\u001b[0m \u001b[0mdata\u001b[0m\u001b[0;34m.\u001b[0m\u001b[0mBorough\u001b[0m \u001b[0;34m==\u001b[0m \u001b[0;34m'BRONX'\u001b[0m\u001b[0;34m]\u001b[0m\u001b[0;34m)\u001b[0m\u001b[0;34m\u001b[0m\u001b[0m\n\u001b[0m",
      "\u001b[0;32m/Users/christianrosado/anaconda/lib/python2.7/site-packages/pandas/core/ops.pyc\u001b[0m in \u001b[0;36mwrapper\u001b[0;34m(self, other)\u001b[0m\n\u001b[1;32m    927\u001b[0m                       is_integer_dtype(np.asarray(other)) else fill_bool)\n\u001b[1;32m    928\u001b[0m             return filler(self._constructor(\n\u001b[0;32m--> 929\u001b[0;31m                 \u001b[0mna_op\u001b[0m\u001b[0;34m(\u001b[0m\u001b[0mself\u001b[0m\u001b[0;34m.\u001b[0m\u001b[0mvalues\u001b[0m\u001b[0;34m,\u001b[0m \u001b[0mother\u001b[0m\u001b[0;34m)\u001b[0m\u001b[0;34m,\u001b[0m\u001b[0;34m\u001b[0m\u001b[0m\n\u001b[0m\u001b[1;32m    930\u001b[0m                 index=self.index)).__finalize__(self)\n\u001b[1;32m    931\u001b[0m \u001b[0;34m\u001b[0m\u001b[0m\n",
      "\u001b[0;32m/Users/christianrosado/anaconda/lib/python2.7/site-packages/pandas/core/ops.pyc\u001b[0m in \u001b[0;36mna_op\u001b[0;34m(x, y)\u001b[0m\n\u001b[1;32m    897\u001b[0m                     raise TypeError(\"cannot compare a dtyped [{0}] array with \"\n\u001b[1;32m    898\u001b[0m                                     \"a scalar of type [{1}]\".format(\n\u001b[0;32m--> 899\u001b[0;31m                                         x.dtype, type(y).__name__))\n\u001b[0m\u001b[1;32m    900\u001b[0m \u001b[0;34m\u001b[0m\u001b[0m\n\u001b[1;32m    901\u001b[0m         \u001b[0;32mreturn\u001b[0m \u001b[0mresult\u001b[0m\u001b[0;34m\u001b[0m\u001b[0m\n",
      "\u001b[0;31mTypeError\u001b[0m: cannot compare a dtyped [object] array with a scalar of type [bool]"
     ]
    }
   ],
   "source": [
    "# Drop the marked districts\n",
    "\n",
    "data = data.drop(data[data.c_num > 12 & data.Borough == 'BRONX'])"
   ]
  },
  {
   "cell_type": "code",
   "execution_count": null,
   "metadata": {
    "collapsed": true
   },
   "outputs": [],
   "source": [
    "# Produce your result: Generate an indicator which ranks the Community District by complaint numbers \n",
    "# on the Community district level\n",
    "\n"
   ]
  },
  {
   "cell_type": "code",
   "execution_count": null,
   "metadata": {
    "collapsed": true
   },
   "outputs": [],
   "source": [
    "# Safe reduced data frame (Community District level)\n",
    "\n"
   ]
  },
  {
   "cell_type": "markdown",
   "metadata": {},
   "source": [
    "# 4. Think about the interpretation of your results?\n",
    "What do you have to keep in mind when interpreting your results? Are they generable? Does the way the data is collected influence your results? To better inform city agancies it might be good to explore in more detail the underlying dempgraphics/infrastructure of a Community District becasue this might influence 311 calls. You can do this by merging external data on the Community District level to your analysis data. "
   ]
  },
  {
   "cell_type": "code",
   "execution_count": 86,
   "metadata": {
    "collapsed": false
   },
   "outputs": [],
   "source": [
    "# Population by Community District\n",
    "#df_pop = pd.read_csv(PUIdata + \"/Final_Demographics.csv\")\n",
    "\n",
    "df_pop = pd.read_csv('http://cosmo.nyu.edu/~fb55/PUI2016/data/Final_Demographics.csv')"
   ]
  },
  {
   "cell_type": "code",
   "execution_count": 94,
   "metadata": {
    "collapsed": false
   },
   "outputs": [
    {
     "data": {
      "text/html": [
       "<div>\n",
       "<table border=\"1\" class=\"dataframe\">\n",
       "  <thead>\n",
       "    <tr style=\"text-align: right;\">\n",
       "      <th></th>\n",
       "      <th>FIPS</th>\n",
       "      <th>cd_id</th>\n",
       "      <th>Total Population</th>\n",
       "      <th>Population Density (per sq. mile)</th>\n",
       "      <th>% Total Population: Male</th>\n",
       "      <th>% Total Population: 18 to 24 Years</th>\n",
       "      <th>% Total Population: 25 to 34 Years</th>\n",
       "      <th>% Total Population: 35 to 44 Years</th>\n",
       "      <th>% Population 5 Years And Over: Speak Only English</th>\n",
       "      <th>% Population 5 Years And Over: Spanish or Spanish Creole</th>\n",
       "      <th>...</th>\n",
       "      <th>Employed Civilian Population 16 Years And Over: Production, transportation, and material moving  occupations: Production occupations</th>\n",
       "      <th>Employed Civilian Population 16 Years And Over: Production, transportation, and material moving  occupations: Transportation and material moving occupations</th>\n",
       "      <th>% Employed Civilian Population 16 Years And Over: Management, professional, and related occupations</th>\n",
       "      <th>% Employed Civilian Population 16 Years And Over: Service occupations</th>\n",
       "      <th>% Employed Civilian Population 16 Years And Over: Sales and office occupations</th>\n",
       "      <th>% Employed Civilian Population 16 Years And Over: Farming, fishing, and forestry occupations</th>\n",
       "      <th>% Employed Civilian Population 16 Years And Over: Construction, extraction, and maintenance  occupations</th>\n",
       "      <th>% Employed Civilian Population 16 Years And Over: Production, transportation, and material moving  occupations</th>\n",
       "      <th>% Employed Civilian Population 16 Years And Over: Production, transportation, and material moving  occupations: Production occupations</th>\n",
       "      <th>% Employed Civilian Population 16 Years And Over: Production, transportation, and material moving  occupations: Transportation and material moving occupations</th>\n",
       "    </tr>\n",
       "  </thead>\n",
       "  <tbody>\n",
       "    <tr>\n",
       "      <th>0</th>\n",
       "      <td>3603701</td>\n",
       "      <td>BX08</td>\n",
       "      <td>106737</td>\n",
       "      <td>31229.95006</td>\n",
       "      <td>46.65</td>\n",
       "      <td>10.73</td>\n",
       "      <td>15.04</td>\n",
       "      <td>11.32</td>\n",
       "      <td>46.80</td>\n",
       "      <td>39.24</td>\n",
       "      <td>...</td>\n",
       "      <td>665</td>\n",
       "      <td>1518</td>\n",
       "      <td>42.66</td>\n",
       "      <td>28.95</td>\n",
       "      <td>20.89</td>\n",
       "      <td>0.24</td>\n",
       "      <td>2.65</td>\n",
       "      <td>4.60</td>\n",
       "      <td>1.40</td>\n",
       "      <td>3.20</td>\n",
       "    </tr>\n",
       "    <tr>\n",
       "      <th>1</th>\n",
       "      <td>3603702</td>\n",
       "      <td>BX12</td>\n",
       "      <td>134644</td>\n",
       "      <td>19966.67839</td>\n",
       "      <td>46.35</td>\n",
       "      <td>11.35</td>\n",
       "      <td>14.29</td>\n",
       "      <td>12.57</td>\n",
       "      <td>73.09</td>\n",
       "      <td>18.19</td>\n",
       "      <td>...</td>\n",
       "      <td>1156</td>\n",
       "      <td>4174</td>\n",
       "      <td>29.57</td>\n",
       "      <td>33.98</td>\n",
       "      <td>20.40</td>\n",
       "      <td>0.00</td>\n",
       "      <td>7.08</td>\n",
       "      <td>8.97</td>\n",
       "      <td>1.95</td>\n",
       "      <td>7.02</td>\n",
       "    </tr>\n",
       "    <tr>\n",
       "      <th>2</th>\n",
       "      <td>3603703</td>\n",
       "      <td>BX10</td>\n",
       "      <td>121209</td>\n",
       "      <td>12913.81703</td>\n",
       "      <td>45.20</td>\n",
       "      <td>8.62</td>\n",
       "      <td>13.74</td>\n",
       "      <td>12.78</td>\n",
       "      <td>61.79</td>\n",
       "      <td>26.43</td>\n",
       "      <td>...</td>\n",
       "      <td>941</td>\n",
       "      <td>3433</td>\n",
       "      <td>36.20</td>\n",
       "      <td>22.85</td>\n",
       "      <td>25.09</td>\n",
       "      <td>0.00</td>\n",
       "      <td>7.68</td>\n",
       "      <td>8.18</td>\n",
       "      <td>1.76</td>\n",
       "      <td>6.42</td>\n",
       "    </tr>\n",
       "    <tr>\n",
       "      <th>3</th>\n",
       "      <td>3603704</td>\n",
       "      <td>BX11</td>\n",
       "      <td>135839</td>\n",
       "      <td>35677.95453</td>\n",
       "      <td>50.09</td>\n",
       "      <td>8.10</td>\n",
       "      <td>17.43</td>\n",
       "      <td>14.09</td>\n",
       "      <td>43.22</td>\n",
       "      <td>36.45</td>\n",
       "      <td>...</td>\n",
       "      <td>2189</td>\n",
       "      <td>5592</td>\n",
       "      <td>30.06</td>\n",
       "      <td>27.86</td>\n",
       "      <td>22.24</td>\n",
       "      <td>0.00</td>\n",
       "      <td>7.03</td>\n",
       "      <td>12.81</td>\n",
       "      <td>3.60</td>\n",
       "      <td>9.20</td>\n",
       "    </tr>\n",
       "    <tr>\n",
       "      <th>4</th>\n",
       "      <td>3603705</td>\n",
       "      <td>BX03</td>\n",
       "      <td>172247</td>\n",
       "      <td>39405.79222</td>\n",
       "      <td>44.72</td>\n",
       "      <td>14.24</td>\n",
       "      <td>14.89</td>\n",
       "      <td>12.38</td>\n",
       "      <td>36.82</td>\n",
       "      <td>54.24</td>\n",
       "      <td>...</td>\n",
       "      <td>1437</td>\n",
       "      <td>5436</td>\n",
       "      <td>16.80</td>\n",
       "      <td>41.00</td>\n",
       "      <td>22.29</td>\n",
       "      <td>0.03</td>\n",
       "      <td>8.45</td>\n",
       "      <td>11.43</td>\n",
       "      <td>2.39</td>\n",
       "      <td>9.04</td>\n",
       "    </tr>\n",
       "  </tbody>\n",
       "</table>\n",
       "<p>5 rows × 158 columns</p>\n",
       "</div>"
      ],
      "text/plain": [
       "      FIPS cd_id  Total Population  Population Density (per sq. mile)  \\\n",
       "0  3603701  BX08            106737                        31229.95006   \n",
       "1  3603702  BX12            134644                        19966.67839   \n",
       "2  3603703  BX10            121209                        12913.81703   \n",
       "3  3603704  BX11            135839                        35677.95453   \n",
       "4  3603705  BX03            172247                        39405.79222   \n",
       "\n",
       "   % Total Population: Male  % Total Population: 18 to 24 Years  \\\n",
       "0                     46.65                               10.73   \n",
       "1                     46.35                               11.35   \n",
       "2                     45.20                                8.62   \n",
       "3                     50.09                                8.10   \n",
       "4                     44.72                               14.24   \n",
       "\n",
       "   % Total Population: 25 to 34 Years  % Total Population: 35 to 44 Years  \\\n",
       "0                               15.04                               11.32   \n",
       "1                               14.29                               12.57   \n",
       "2                               13.74                               12.78   \n",
       "3                               17.43                               14.09   \n",
       "4                               14.89                               12.38   \n",
       "\n",
       "   % Population 5 Years And Over: Speak Only English  \\\n",
       "0                                              46.80   \n",
       "1                                              73.09   \n",
       "2                                              61.79   \n",
       "3                                              43.22   \n",
       "4                                              36.82   \n",
       "\n",
       "   % Population 5 Years And Over: Spanish or Spanish Creole  \\\n",
       "0                                              39.24          \n",
       "1                                              18.19          \n",
       "2                                              26.43          \n",
       "3                                              36.45          \n",
       "4                                              54.24          \n",
       "\n",
       "                                                                                ...                                                                                \\\n",
       "0                                                                               ...                                                                                 \n",
       "1                                                                               ...                                                                                 \n",
       "2                                                                               ...                                                                                 \n",
       "3                                                                               ...                                                                                 \n",
       "4                                                                               ...                                                                                 \n",
       "\n",
       "   Employed Civilian Population 16 Years And Over: Production, transportation, and material moving  occupations: Production occupations  \\\n",
       "0                                                665                                                                                      \n",
       "1                                               1156                                                                                      \n",
       "2                                                941                                                                                      \n",
       "3                                               2189                                                                                      \n",
       "4                                               1437                                                                                      \n",
       "\n",
       "   Employed Civilian Population 16 Years And Over: Production, transportation, and material moving  occupations: Transportation and material moving occupations  \\\n",
       "0                                               1518                                                                                                              \n",
       "1                                               4174                                                                                                              \n",
       "2                                               3433                                                                                                              \n",
       "3                                               5592                                                                                                              \n",
       "4                                               5436                                                                                                              \n",
       "\n",
       "   % Employed Civilian Population 16 Years And Over: Management, professional, and related occupations  \\\n",
       "0                                              42.66                                                     \n",
       "1                                              29.57                                                     \n",
       "2                                              36.20                                                     \n",
       "3                                              30.06                                                     \n",
       "4                                              16.80                                                     \n",
       "\n",
       "   % Employed Civilian Population 16 Years And Over: Service occupations  \\\n",
       "0                                              28.95                       \n",
       "1                                              33.98                       \n",
       "2                                              22.85                       \n",
       "3                                              27.86                       \n",
       "4                                              41.00                       \n",
       "\n",
       "   % Employed Civilian Population 16 Years And Over: Sales and office occupations  \\\n",
       "0                                              20.89                                \n",
       "1                                              20.40                                \n",
       "2                                              25.09                                \n",
       "3                                              22.24                                \n",
       "4                                              22.29                                \n",
       "\n",
       "   % Employed Civilian Population 16 Years And Over: Farming, fishing, and forestry occupations  \\\n",
       "0                                               0.24                                              \n",
       "1                                               0.00                                              \n",
       "2                                               0.00                                              \n",
       "3                                               0.00                                              \n",
       "4                                               0.03                                              \n",
       "\n",
       "   % Employed Civilian Population 16 Years And Over: Construction, extraction, and maintenance  occupations  \\\n",
       "0                                               2.65                                                          \n",
       "1                                               7.08                                                          \n",
       "2                                               7.68                                                          \n",
       "3                                               7.03                                                          \n",
       "4                                               8.45                                                          \n",
       "\n",
       "   % Employed Civilian Population 16 Years And Over: Production, transportation, and material moving  occupations  \\\n",
       "0                                               4.60                                                                \n",
       "1                                               8.97                                                                \n",
       "2                                               8.18                                                                \n",
       "3                                              12.81                                                                \n",
       "4                                              11.43                                                                \n",
       "\n",
       "   % Employed Civilian Population 16 Years And Over: Production, transportation, and material moving  occupations: Production occupations  \\\n",
       "0                                               1.40                                                                                        \n",
       "1                                               1.95                                                                                        \n",
       "2                                               1.76                                                                                        \n",
       "3                                               3.60                                                                                        \n",
       "4                                               2.39                                                                                        \n",
       "\n",
       "   % Employed Civilian Population 16 Years And Over: Production, transportation, and material moving  occupations: Transportation and material moving occupations  \n",
       "0                                               3.20                                                                                                               \n",
       "1                                               7.02                                                                                                               \n",
       "2                                               6.42                                                                                                               \n",
       "3                                               9.20                                                                                                               \n",
       "4                                               9.04                                                                                                               \n",
       "\n",
       "[5 rows x 158 columns]"
      ]
     },
     "execution_count": 94,
     "metadata": {},
     "output_type": "execute_result"
    }
   ],
   "source": [
    "# Check variables in file\n",
    "\n",
    "df_pop.head()\n"
   ]
  },
  {
   "cell_type": "code",
   "execution_count": 91,
   "metadata": {
    "collapsed": false
   },
   "outputs": [
    {
     "name": "stdout",
     "output_type": "stream",
     "text": [
      "There are 59 community districts represented in the file.\n"
     ]
    }
   ],
   "source": [
    "# How many community districts are in file? \n",
    "cd = len(df_pop.cd_id.unique())\n",
    "print 'There are', cd, 'community districts represented in the file.'"
   ]
  },
  {
   "cell_type": "code",
   "execution_count": 95,
   "metadata": {
    "collapsed": false
   },
   "outputs": [
    {
     "data": {
      "text/plain": [
       "<pandas.core.groupby.DataFrameGroupBy object at 0x117aac6d0>"
      ]
     },
     "execution_count": 95,
     "metadata": {},
     "output_type": "execute_result"
    }
   ],
   "source": [
    "# Manipulate data to get some information on demographics by Community District. \n",
    "# Think about who might be more likely to call 311\n",
    "\n",
    "df_pop.groupby(['cd_id'])\n"
   ]
  },
  {
   "cell_type": "code",
   "execution_count": null,
   "metadata": {
    "collapsed": true
   },
   "outputs": [],
   "source": [
    "# Save data frame"
   ]
  },
  {
   "cell_type": "code",
   "execution_count": null,
   "metadata": {
    "collapsed": false
   },
   "outputs": [],
   "source": [
    "# Infrastructure by Community District\n",
    "df_infr = pd.read_csv(PUIdata + \"/ACS_Computer_Use_and_Internet_2014_1Year_Estimate.csv\")"
   ]
  },
  {
   "cell_type": "code",
   "execution_count": null,
   "metadata": {
    "collapsed": false
   },
   "outputs": [],
   "source": [
    "# Check variables in file"
   ]
  },
  {
   "cell_type": "code",
   "execution_count": null,
   "metadata": {
    "collapsed": true
   },
   "outputs": [],
   "source": [
    "# How many community districts are in file? "
   ]
  },
  {
   "cell_type": "code",
   "execution_count": null,
   "metadata": {
    "collapsed": true
   },
   "outputs": [],
   "source": [
    "# Manipulate data to get some information on internet/broadband useage by Community District\n",
    "# Aggregate the mobile subscription data"
   ]
  },
  {
   "cell_type": "code",
   "execution_count": null,
   "metadata": {
    "collapsed": true
   },
   "outputs": [],
   "source": [
    "# Aggregate internet type by high and low connections"
   ]
  },
  {
   "cell_type": "code",
   "execution_count": null,
   "metadata": {
    "collapsed": true
   },
   "outputs": [],
   "source": [
    "# Save data frame "
   ]
  },
  {
   "cell_type": "markdown",
   "metadata": {},
   "source": [
    "# 5. Inform your results by linking datasets\n",
    "Now you want to link the three data frames to produce summary statistics for Community Districts which show a high number of complaints vs. Community Districts which show a lower number of complaints. Please keep in mind that the identifiers used for the linkage (Community Dostrict IDs) should be recored the same way. Use regular expressions to harmonize the identifiers if possible. The identifiers should look like BK01, BK02, etc.\n",
    "https://docs.python.org/2/library/re.html"
   ]
  },
  {
   "cell_type": "code",
   "execution_count": null,
   "metadata": {
    "collapsed": false
   },
   "outputs": [],
   "source": [
    "# Harmonize identifier of dataframe 1"
   ]
  },
  {
   "cell_type": "code",
   "execution_count": null,
   "metadata": {
    "collapsed": false
   },
   "outputs": [],
   "source": [
    "# Harmonize identifier of dataframe 2"
   ]
  },
  {
   "cell_type": "code",
   "execution_count": null,
   "metadata": {
    "collapsed": true
   },
   "outputs": [],
   "source": [
    "# Harmonize identifier of dataframe 3"
   ]
  },
  {
   "cell_type": "code",
   "execution_count": null,
   "metadata": {
    "collapsed": false
   },
   "outputs": [],
   "source": [
    "# Link the 3 dataframes"
   ]
  },
  {
   "cell_type": "code",
   "execution_count": null,
   "metadata": {
    "collapsed": true
   },
   "outputs": [],
   "source": [
    "# Are the demographics and infrastructure different in Community Districts that show more complaints than others?"
   ]
  }
 ],
 "metadata": {
  "anaconda-cloud": {},
  "celltoolbar": "Raw Cell Format",
  "kernelspec": {
   "display_name": "Python [Root]",
   "language": "python",
   "name": "Python [Root]"
  },
  "language_info": {
   "codemirror_mode": {
    "name": "ipython",
    "version": 2
   },
   "file_extension": ".py",
   "mimetype": "text/x-python",
   "name": "python",
   "nbconvert_exporter": "python",
   "pygments_lexer": "ipython2",
   "version": "2.7.12"
  }
 },
 "nbformat": 4,
 "nbformat_minor": 0
}
